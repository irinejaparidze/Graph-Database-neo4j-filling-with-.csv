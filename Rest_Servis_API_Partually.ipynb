{
 "cells": [
  {
   "cell_type": "code",
   "execution_count": 21,
   "id": "a0e98ba3",
   "metadata": {},
   "outputs": [],
   "source": [
    "from neo4j import GraphDatabase"
   ]
  },
  {
   "cell_type": "code",
   "execution_count": 22,
   "id": "f940edf9",
   "metadata": {},
   "outputs": [],
   "source": [
    "URI = \"neo4j+s://67ec8314.databases.neo4j.io\"\n",
    "AUTH = (\"neo4j\", \"ptdQYuJCwqQQt6BOO-qi323XZjT4G8wEnh90ohOrX3A\")\n",
    "\n",
    "\n",
    "with GraphDatabase.driver(URI, auth=AUTH) as driver:\n",
    "    driver.verify_connectivity()"
   ]
  },
  {
   "cell_type": "code",
   "execution_count": 23,
   "id": "2707df97",
   "metadata": {},
   "outputs": [],
   "source": [
    "from flask import Flask, request\n",
    "from py2neo import Graph, NodeMatcher\n",
    "import networkx as nx\n",
    "import json"
   ]
  },
  {
   "cell_type": "code",
   "execution_count": 24,
   "id": "41ecd939",
   "metadata": {},
   "outputs": [
    {
     "name": "stdout",
     "output_type": "stream",
     "text": [
      " * Serving Flask app \"__main__\" (lazy loading)\n",
      " * Environment: production\n",
      "\u001b[31m   WARNING: This is a development server. Do not use it in a production deployment.\u001b[0m\n",
      "\u001b[2m   Use a production WSGI server instead.\u001b[0m\n",
      " * Debug mode: off\n"
     ]
    },
    {
     "name": "stderr",
     "output_type": "stream",
     "text": [
      " * Running on http://127.0.0.1:5000/ (Press CTRL+C to quit)\n",
      "[2023-03-17 12:11:15,890] ERROR in app: Exception on /graph-data [GET]\n",
      "Traceback (most recent call last):\n",
      "  File \"C:\\Users\\Irina\\anaconda3\\lib\\site-packages\\flask\\app.py\", line 2447, in wsgi_app\n",
      "    response = self.full_dispatch_request()\n",
      "  File \"C:\\Users\\Irina\\anaconda3\\lib\\site-packages\\flask\\app.py\", line 1952, in full_dispatch_request\n",
      "    rv = self.handle_user_exception(e)\n",
      "  File \"C:\\Users\\Irina\\anaconda3\\lib\\site-packages\\flask\\app.py\", line 1821, in handle_user_exception\n",
      "    reraise(exc_type, exc_value, tb)\n",
      "  File \"C:\\Users\\Irina\\anaconda3\\lib\\site-packages\\flask\\_compat.py\", line 39, in reraise\n",
      "    raise value\n",
      "  File \"C:\\Users\\Irina\\anaconda3\\lib\\site-packages\\flask\\app.py\", line 1950, in full_dispatch_request\n",
      "    rv = self.dispatch_request()\n",
      "  File \"C:\\Users\\Irina\\anaconda3\\lib\\site-packages\\flask\\app.py\", line 1936, in dispatch_request\n",
      "    return self.view_functions[rule.endpoint](**req.view_args)\n",
      "  File \"C:\\Users\\Irina\\AppData\\Local\\Temp\\ipykernel_11652\\3754516521.py\", line 27, in get_graph_data\n",
      "    nx_graph.add_node(node.id, label=node['name'], type='ID')\n",
      "AttributeError: 'Node' object has no attribute 'id'\n",
      "127.0.0.1 - - [17/Mar/2023 12:11:16] \"GET //graph-data HTTP/1.1\" 500 -\n",
      "[2023-03-17 12:11:37,271] ERROR in app: Exception on /graph-data [GET]\n",
      "Traceback (most recent call last):\n",
      "  File \"C:\\Users\\Irina\\anaconda3\\lib\\site-packages\\flask\\app.py\", line 2447, in wsgi_app\n",
      "    response = self.full_dispatch_request()\n",
      "  File \"C:\\Users\\Irina\\anaconda3\\lib\\site-packages\\flask\\app.py\", line 1952, in full_dispatch_request\n",
      "    rv = self.handle_user_exception(e)\n",
      "  File \"C:\\Users\\Irina\\anaconda3\\lib\\site-packages\\flask\\app.py\", line 1821, in handle_user_exception\n",
      "    reraise(exc_type, exc_value, tb)\n",
      "  File \"C:\\Users\\Irina\\anaconda3\\lib\\site-packages\\flask\\_compat.py\", line 39, in reraise\n",
      "    raise value\n",
      "  File \"C:\\Users\\Irina\\anaconda3\\lib\\site-packages\\flask\\app.py\", line 1950, in full_dispatch_request\n",
      "    rv = self.dispatch_request()\n",
      "  File \"C:\\Users\\Irina\\anaconda3\\lib\\site-packages\\flask\\app.py\", line 1936, in dispatch_request\n",
      "    return self.view_functions[rule.endpoint](**req.view_args)\n",
      "  File \"C:\\Users\\Irina\\AppData\\Local\\Temp\\ipykernel_11652\\3754516521.py\", line 27, in get_graph_data\n",
      "    nx_graph.add_node(node.id, label=node['name'], type='ID')\n",
      "AttributeError: 'Node' object has no attribute 'id'\n",
      "127.0.0.1 - - [17/Mar/2023 12:11:37] \"GET //graph-data HTTP/1.1\" 500 -\n"
     ]
    }
   ],
   "source": [
    "app = Flask(__name__)\n",
    "\n",
    "# Connect to Neo4j database\n",
    "graph = Graph(URI, auth=AUTH)\n",
    "\n",
    "\n",
    "@app.route('/graph-data')\n",
    "def get_graph_data():\n",
    "    \n",
    "    full_name = request.args.get('full_name')\n",
    "\n",
    "    matcher = NodeMatcher(graph)\n",
    "    id_node = matcher.match('ID', name=full_name).first()\n",
    "    name1_node = matcher.match('NAME1', name=full_name).first()\n",
    "    name2_node = matcher.match('NAME2', name=full_name).first()\n",
    "    \n",
    "\n",
    "    # Create NetworkX graph and add nodes and edges\n",
    "    nx_graph = nx.Graph()\n",
    "    if id_node is not None:\n",
    "        nodes = [id_node]\n",
    "        edges = []\n",
    "        for rel in graph.match(nodes=[id_node], r_type=None):\n",
    "            nodes.append(rel.end_node)\n",
    "            edges.append((id_node, rel.end_node, {'label': rel.type}))\n",
    "        for node in nodes:\n",
    "            nx_graph.add_node(node.id, label=node['name'], type='ID')\n",
    "        for edge in edges:\n",
    "            nx_graph.add_edge(edge[0].id, edge[1].id)\n",
    "    if name1_node is not None:\n",
    "        nodes = [name1_node]\n",
    "        edges = []\n",
    "        for rel in graph.match(nodes=[name1_node], r_type=None):\n",
    "            nodes.append(rel.end_node)\n",
    "            edges.append((name1_node, rel.end_node, {'label': rel.type}))\n",
    "        for node in nodes:\n",
    "            nx_graph.add_node(node.id, label=node['name'], type='NAME1')\n",
    "        for edge in edges:\n",
    "            nx_graph.add_edge(edge[0].id, edge[1].id)\n",
    "    if name2_node is not None:\n",
    "        nodes = [name2_node]\n",
    "        edges = []\n",
    "        for rel in graph.match(nodes=[name2_node], r_type=None):\n",
    "            nodes.append(rel.end_node)\n",
    "            edges.append((name2_node, rel.end_node, {'label': rel.type}))\n",
    "        for node in nodes:\n",
    "            nx_graph.add_node(node.id, label=node['name'], type='NAME2')\n",
    "        for edge in edges:\n",
    "            nx_graph.add_edge(edge[0].id, edge[1].id)\n",
    "\n",
    "    \n",
    "    if 'application/graphml+xml' in request.headers.get('Accept'):\n",
    "        # Converting to GraphML format\n",
    "        graphml_data = nx.generate_graphml(nx_graph)\n",
    "        return graphml_data\n",
    "    else:\n",
    "        # Converting to JSON format\n",
    "        nodes = [{'id': n[0], 'label': n[1]['label'], 'type': n[1]['type']} for n in nx_graph.nodes(data=True)]\n",
    "        edges = [{'source': e[0], 'target': e[1], 'label': e[2]['label']} for e in nx_graph.edges(data=True)]\n",
    "        json_data = json.dumps({'nodes': nodes, 'edges': edges})\n",
    "        return json_data, {'Content-Type': 'application/json'}\n",
    "\n",
    "    \n",
    "if __name__ == '__main__':\n",
    "    app.run()\n"
   ]
  }
 ],
 "metadata": {
  "kernelspec": {
   "display_name": "Python 3 (ipykernel)",
   "language": "python",
   "name": "python3"
  },
  "language_info": {
   "codemirror_mode": {
    "name": "ipython",
    "version": 3
   },
   "file_extension": ".py",
   "mimetype": "text/x-python",
   "name": "python",
   "nbconvert_exporter": "python",
   "pygments_lexer": "ipython3",
   "version": "3.9.12"
  }
 },
 "nbformat": 4,
 "nbformat_minor": 5
}
