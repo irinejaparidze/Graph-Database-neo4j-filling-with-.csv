{
 "cells": [
  {
   "cell_type": "code",
   "execution_count": 2,
   "id": "9571c963",
   "metadata": {},
   "outputs": [],
   "source": [
    "from neo4j import GraphDatabase"
   ]
  },
  {
   "cell_type": "code",
   "execution_count": 3,
   "id": "7743125b",
   "metadata": {},
   "outputs": [],
   "source": [
    "from py2neo import Graph,Node,Relationship, NodeMatcher\n",
    "from py2neo import cypher"
   ]
  },
  {
   "cell_type": "code",
   "execution_count": 4,
   "id": "0d6e085c",
   "metadata": {},
   "outputs": [],
   "source": [
    "import pandas as pd\n",
    "import numpy as np\n"
   ]
  },
  {
   "cell_type": "code",
   "execution_count": 5,
   "id": "b42e49d0",
   "metadata": {},
   "outputs": [],
   "source": [
    "URI = \"neo4j+s://67ec8314.databases.neo4j.io\"\n",
    "AUTH = (\"neo4j\", \"ptdQYuJCwqQQt6BOO-qi323XZjT4G8wEnh90ohOrX3A\")\n",
    "\n",
    "\n",
    "with GraphDatabase.driver(URI, auth=AUTH) as driver:\n",
    "    driver.verify_connectivity()"
   ]
  },
  {
   "cell_type": "code",
   "execution_count": 7,
   "id": "6e740a1f",
   "metadata": {},
   "outputs": [],
   "source": [
    "graph = Graph(URI, auth=('neo4j', 'ptdQYuJCwqQQt6BOO-qi323XZjT4G8wEnh90ohOrX3A'))"
   ]
  },
  {
   "cell_type": "code",
   "execution_count": 8,
   "id": "77d397eb",
   "metadata": {},
   "outputs": [
    {
     "data": {
      "text/html": [
       "<div>\n",
       "<style scoped>\n",
       "    .dataframe tbody tr th:only-of-type {\n",
       "        vertical-align: middle;\n",
       "    }\n",
       "\n",
       "    .dataframe tbody tr th {\n",
       "        vertical-align: top;\n",
       "    }\n",
       "\n",
       "    .dataframe thead th {\n",
       "        text-align: right;\n",
       "    }\n",
       "</style>\n",
       "<table border=\"1\" class=\"dataframe\">\n",
       "  <thead>\n",
       "    <tr style=\"text-align: right;\">\n",
       "      <th></th>\n",
       "      <th>id события;ФИО участника события 1;ФИО участника события 2</th>\n",
       "    </tr>\n",
       "  </thead>\n",
       "  <tbody>\n",
       "    <tr>\n",
       "      <th>0</th>\n",
       "      <td>189;Галчевская Карина Владимировна;Белоновская...</td>\n",
       "    </tr>\n",
       "    <tr>\n",
       "      <th>1</th>\n",
       "      <td>206;Офицеров Олег Романович;Сапожник Борис Вал...</td>\n",
       "    </tr>\n",
       "    <tr>\n",
       "      <th>2</th>\n",
       "      <td>445;Жандарова Лариса Германовна;Чемодуров Дами...</td>\n",
       "    </tr>\n",
       "  </tbody>\n",
       "</table>\n",
       "</div>"
      ],
      "text/plain": [
       "  id события;ФИО участника события 1;ФИО участника события 2\n",
       "0  189;Галчевская Карина Владимировна;Белоновская...        \n",
       "1  206;Офицеров Олег Романович;Сапожник Борис Вал...        \n",
       "2  445;Жандарова Лариса Германовна;Чемодуров Дами...        "
      ]
     },
     "execution_count": 8,
     "metadata": {},
     "output_type": "execute_result"
    }
   ],
   "source": [
    "test = pd.read_csv('data_test.csv', encoding='utf-8')\n",
    "test.head(3)"
   ]
  },
  {
   "cell_type": "code",
   "execution_count": 9,
   "id": "b1f1f2f1",
   "metadata": {},
   "outputs": [],
   "source": [
    "def parsing(df):\n",
    "    \"\"\"Function to split data \n",
    "    from one column into three\n",
    "    columns\n",
    "    \"\"\"\n",
    "    df[['event_id', 'event1_name', 'event2_name']] = pd.DataFrame([x.split(\";\") for x in df['id события;ФИО участника события 1;ФИО участника события 2'].tolist()])\n",
    "    \n",
    "    return df.iloc[:, 1:]"
   ]
  },
  {
   "cell_type": "code",
   "execution_count": 10,
   "id": "cdc37bf4",
   "metadata": {},
   "outputs": [],
   "source": [
    "t = parsing(test)"
   ]
  },
  {
   "cell_type": "code",
   "execution_count": 11,
   "id": "649225be",
   "metadata": {
    "scrolled": true
   },
   "outputs": [
    {
     "data": {
      "text/html": [
       "<div>\n",
       "<style scoped>\n",
       "    .dataframe tbody tr th:only-of-type {\n",
       "        vertical-align: middle;\n",
       "    }\n",
       "\n",
       "    .dataframe tbody tr th {\n",
       "        vertical-align: top;\n",
       "    }\n",
       "\n",
       "    .dataframe thead th {\n",
       "        text-align: right;\n",
       "    }\n",
       "</style>\n",
       "<table border=\"1\" class=\"dataframe\">\n",
       "  <thead>\n",
       "    <tr style=\"text-align: right;\">\n",
       "      <th></th>\n",
       "      <th>event_id</th>\n",
       "      <th>event1_name</th>\n",
       "      <th>event2_name</th>\n",
       "    </tr>\n",
       "  </thead>\n",
       "  <tbody>\n",
       "    <tr>\n",
       "      <th>0</th>\n",
       "      <td>189</td>\n",
       "      <td>Галчевская Карина Владимировна</td>\n",
       "      <td>Белоновская Анастасия Семеновна</td>\n",
       "    </tr>\n",
       "    <tr>\n",
       "      <th>1</th>\n",
       "      <td>206</td>\n",
       "      <td>Офицеров Олег Романович</td>\n",
       "      <td>Сапожник Борис Валерьевич</td>\n",
       "    </tr>\n",
       "    <tr>\n",
       "      <th>2</th>\n",
       "      <td>445</td>\n",
       "      <td>Жандарова Лариса Германовна</td>\n",
       "      <td>Чемодуров Дамир Русланович</td>\n",
       "    </tr>\n",
       "  </tbody>\n",
       "</table>\n",
       "</div>"
      ],
      "text/plain": [
       "  event_id                     event1_name                      event2_name\n",
       "0      189  Галчевская Карина Владимировна  Белоновская Анастасия Семеновна\n",
       "1      206         Офицеров Олег Романович        Сапожник Борис Валерьевич\n",
       "2      445     Жандарова Лариса Германовна       Чемодуров Дамир Русланович"
      ]
     },
     "execution_count": 11,
     "metadata": {},
     "output_type": "execute_result"
    }
   ],
   "source": [
    "t.head(3)"
   ]
  },
  {
   "cell_type": "code",
   "execution_count": 50,
   "id": "d8767d7b",
   "metadata": {},
   "outputs": [
    {
     "data": {
      "text/plain": [
       "(5000, 3)"
      ]
     },
     "execution_count": 50,
     "metadata": {},
     "output_type": "execute_result"
    }
   ],
   "source": [
    "t.shape"
   ]
  },
  {
   "cell_type": "code",
   "execution_count": 12,
   "id": "36b699ce",
   "metadata": {},
   "outputs": [
    {
     "data": {
      "text/html": [
       "<div>\n",
       "<style scoped>\n",
       "    .dataframe tbody tr th:only-of-type {\n",
       "        vertical-align: middle;\n",
       "    }\n",
       "\n",
       "    .dataframe tbody tr th {\n",
       "        vertical-align: top;\n",
       "    }\n",
       "\n",
       "    .dataframe thead th {\n",
       "        text-align: right;\n",
       "    }\n",
       "</style>\n",
       "<table border=\"1\" class=\"dataframe\">\n",
       "  <thead>\n",
       "    <tr style=\"text-align: right;\">\n",
       "      <th></th>\n",
       "      <th>event_id</th>\n",
       "      <th>event1_name</th>\n",
       "      <th>event2_name</th>\n",
       "      <th>index</th>\n",
       "    </tr>\n",
       "  </thead>\n",
       "  <tbody>\n",
       "    <tr>\n",
       "      <th>0</th>\n",
       "      <td>189</td>\n",
       "      <td>Галчевская Карина Владимировна</td>\n",
       "      <td>Белоновская Анастасия Семеновна</td>\n",
       "      <td>0</td>\n",
       "    </tr>\n",
       "    <tr>\n",
       "      <th>1</th>\n",
       "      <td>206</td>\n",
       "      <td>Офицеров Олег Романович</td>\n",
       "      <td>Сапожник Борис Валерьевич</td>\n",
       "      <td>1</td>\n",
       "    </tr>\n",
       "    <tr>\n",
       "      <th>2</th>\n",
       "      <td>445</td>\n",
       "      <td>Жандарова Лариса Германовна</td>\n",
       "      <td>Чемодуров Дамир Русланович</td>\n",
       "      <td>2</td>\n",
       "    </tr>\n",
       "    <tr>\n",
       "      <th>3</th>\n",
       "      <td>503</td>\n",
       "      <td>Масимова Яна Дамировна</td>\n",
       "      <td>Мингажетдинов Рамиль Семенович</td>\n",
       "      <td>3</td>\n",
       "    </tr>\n",
       "    <tr>\n",
       "      <th>4</th>\n",
       "      <td>571</td>\n",
       "      <td>Мухтарова Алена Яковлевна</td>\n",
       "      <td>Щербатенко Ольга Робертовна</td>\n",
       "      <td>4</td>\n",
       "    </tr>\n",
       "  </tbody>\n",
       "</table>\n",
       "</div>"
      ],
      "text/plain": [
       "  event_id                     event1_name                      event2_name  \\\n",
       "0      189  Галчевская Карина Владимировна  Белоновская Анастасия Семеновна   \n",
       "1      206         Офицеров Олег Романович        Сапожник Борис Валерьевич   \n",
       "2      445     Жандарова Лариса Германовна       Чемодуров Дамир Русланович   \n",
       "3      503          Масимова Яна Дамировна   Мингажетдинов Рамиль Семенович   \n",
       "4      571       Мухтарова Алена Яковлевна      Щербатенко Ольга Робертовна   \n",
       "\n",
       "   index  \n",
       "0      0  \n",
       "1      1  \n",
       "2      2  \n",
       "3      3  \n",
       "4      4  "
      ]
     },
     "execution_count": 12,
     "metadata": {},
     "output_type": "execute_result"
    }
   ],
   "source": [
    "t[\"index\"] = t.index\n",
    "t.head()"
   ]
  },
  {
   "cell_type": "code",
   "execution_count": 13,
   "id": "a9e721ce",
   "metadata": {},
   "outputs": [
    {
     "data": {
      "text/plain": [
       "4930"
      ]
     },
     "execution_count": 13,
     "metadata": {},
     "output_type": "execute_result"
    }
   ],
   "source": [
    "t['event1_name'].nunique()"
   ]
  },
  {
   "cell_type": "code",
   "execution_count": 14,
   "id": "7c735c8f",
   "metadata": {},
   "outputs": [
    {
     "data": {
      "text/plain": [
       "4994"
      ]
     },
     "execution_count": 14,
     "metadata": {},
     "output_type": "execute_result"
    }
   ],
   "source": [
    "t['event2_name'].nunique()"
   ]
  },
  {
   "cell_type": "code",
   "execution_count": 13,
   "id": "82791199",
   "metadata": {},
   "outputs": [
    {
     "data": {
      "text/plain": [
       "4985"
      ]
     },
     "execution_count": 13,
     "metadata": {},
     "output_type": "execute_result"
    }
   ],
   "source": [
    "t[\"event_id\"].nunique()\n"
   ]
  },
  {
   "cell_type": "code",
   "execution_count": 14,
   "id": "7507fc6d",
   "metadata": {},
   "outputs": [
    {
     "data": {
      "text/plain": [
       "5000"
      ]
     },
     "execution_count": 14,
     "metadata": {},
     "output_type": "execute_result"
    }
   ],
   "source": [
    "trains=t[\"index\"].unique()\n",
    "len(trains)"
   ]
  },
  {
   "cell_type": "code",
   "execution_count": 15,
   "id": "bd8ec509",
   "metadata": {},
   "outputs": [],
   "source": [
    "q1=\"\"\"\n",
    "MERGE(Z:Index{NAME:$index})\n",
    "MERGE(A:ID{NAME:$event_id})\n",
    "MERGE(B:NAME1{NAME:$event1_name})\n",
    "MERGE(C:NAME2{NAME:$event2_name})\n",
    "MERGE (A)-[:CONNECTED_TO]->(B)\n",
    "MERGE (A)-[:CONNECTED_TO]->(C)\n",
    "MERGE (B)-[:CONNECTED_TO]->(C)\n",
    "MERGE (Z)-[:INDEX_OF]->(A)\n",
    "MERGE (Z)-[:INDEX_OF]->(B)\n",
    "MERGE (Z)-[:INDEX_OF]->(C)\n",
    "\n",
    "\"\"\"\n",
    "\n",
    "session = driver.session()\n",
    "for tname in trains:\n",
    "    x=t.groupby(\"index\")[[\"index\", \"event_id\"]].get_group(tname)[\"event_id\"]\n",
    "    y=t.groupby(\"index\")[[ \"index\", \"event1_name\"]].get_group(tname)[\"event1_name\"]\n",
    "    z=t.groupby(\"index\")[[\"index\", \"event2_name\"]].get_group(tname)[\"event2_name\"] \n",
    "    for i, j, k in zip(x, y, z):\n",
    "        p={\"index\":tname, \"event_id\":i,\"event1_name\":j, \"event2_name\":k}\n",
    "        \n",
    "        session.run(q1,p)\n",
    "    \n",
    "    "
   ]
  },
  {
   "cell_type": "code",
   "execution_count": null,
   "id": "1d2a9db3",
   "metadata": {},
   "outputs": [],
   "source": []
  },
  {
   "cell_type": "code",
   "execution_count": null,
   "id": "aef667f7",
   "metadata": {},
   "outputs": [],
   "source": []
  },
  {
   "cell_type": "code",
   "execution_count": null,
   "id": "ce0458b1",
   "metadata": {},
   "outputs": [],
   "source": []
  },
  {
   "cell_type": "code",
   "execution_count": null,
   "id": "5b7371e1",
   "metadata": {},
   "outputs": [],
   "source": []
  },
  {
   "cell_type": "code",
   "execution_count": null,
   "id": "a48bb82e",
   "metadata": {},
   "outputs": [],
   "source": []
  },
  {
   "cell_type": "code",
   "execution_count": null,
   "id": "c314ed11",
   "metadata": {},
   "outputs": [],
   "source": []
  },
  {
   "cell_type": "code",
   "execution_count": null,
   "id": "f6e8364f",
   "metadata": {},
   "outputs": [],
   "source": []
  },
  {
   "cell_type": "code",
   "execution_count": null,
   "id": "fc656b2d",
   "metadata": {},
   "outputs": [],
   "source": []
  }
 ],
 "metadata": {
  "kernelspec": {
   "display_name": "Python 3 (ipykernel)",
   "language": "python",
   "name": "python3"
  },
  "language_info": {
   "codemirror_mode": {
    "name": "ipython",
    "version": 3
   },
   "file_extension": ".py",
   "mimetype": "text/x-python",
   "name": "python",
   "nbconvert_exporter": "python",
   "pygments_lexer": "ipython3",
   "version": "3.9.12"
  }
 },
 "nbformat": 4,
 "nbformat_minor": 5
}
