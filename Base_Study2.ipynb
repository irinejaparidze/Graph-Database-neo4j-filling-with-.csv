{
 "cells": [
  {
   "cell_type": "code",
   "execution_count": 5,
   "id": "59fe9a4a",
   "metadata": {},
   "outputs": [],
   "source": [
    "from neo4j import GraphDatabase"
   ]
  },
  {
   "cell_type": "code",
   "execution_count": 6,
   "id": "2d34d556",
   "metadata": {},
   "outputs": [],
   "source": [
    "from graphdatascience import GraphDataScience"
   ]
  },
  {
   "cell_type": "code",
   "execution_count": 10,
   "id": "c7ba563b",
   "metadata": {},
   "outputs": [],
   "source": [
    "import networkx as nx\n",
    "from py2neo import Graph, NodeMatcher"
   ]
  },
  {
   "cell_type": "code",
   "execution_count": 7,
   "id": "53f208e7",
   "metadata": {},
   "outputs": [],
   "source": [
    "#importing parameters to connect to Neo4j Aura\n",
    "URI = \"neo4j+s://67ec8314.databases.neo4j.io\"\n",
    "AUTH = (\"neo4j\", \"******\")\n",
    "\n",
    "\n",
    "with GraphDatabase.driver(URI, auth=AUTH) as driver:\n",
    "    driver.verify_connectivity()"
   ]
  },
  {
   "cell_type": "code",
   "execution_count": 8,
   "id": "538b512b",
   "metadata": {
    "scrolled": false
   },
   "outputs": [
    {
     "name": "stderr",
     "output_type": "stream",
     "text": [
      "C:\\Users\\Irina\\AppData\\Local\\Temp\\ipykernel_4004\\2944974106.py:20: DeprecationWarning: `id` is deprecated, use `element_id` instead\n",
      "  w.set_neighborhood(3, [graph.nodes.get(1).id])\n"
     ]
    },
    {
     "data": {
      "application/vnd.jupyter.widget-view+json": {
       "model_id": "aa0a820698aa43df94f9dd1f23e582b6",
       "version_major": 2,
       "version_minor": 0
      },
      "text/plain": [
       "GraphWidget(layout=Layout(height='500px', width='100%'))"
      ]
     },
     "metadata": {},
     "output_type": "display_data"
    }
   ],
   "source": [
    "#here the full visualizetion is created\n",
    "from neo4j import GraphDatabase\n",
    "URI = \"neo4j+s://67ec8314.databases.neo4j.io\"\n",
    "AUTH = (\"neo4j\", \"********\")\n",
    "\n",
    "\n",
    "with GraphDatabase.driver(URI, auth=AUTH) as driver:\n",
    "    driver.verify_connectivity()\n",
    "    \n",
    "    \n",
    "with driver.session(database='neo4j') as session:\n",
    "    graph = session.run(\"MATCH t = (n:ID)-[r]->(:NAME1)-->(:NAME2) RETURN t LIMIT 40\").graph()\n",
    "    \n",
    "\n",
    "from yfiles_jupyter_graphs import GraphWidget\n",
    "\n",
    "w = GraphWidget(graph = graph)\n",
    "w.directed = False\n",
    "w.set_graph_layout('orthogonal')\n",
    "w.set_neighborhood(3, [graph.nodes.get(1).id])\n",
    "w.set_sidebar(enabled=False, start_with='Neighborhood')\n",
    "w.set_overview(False)\n",
    "\n",
    "w.set_node_color_mapping(lambda index, node : \"blue\")\n",
    "w.set_edge_color_mapping(lambda index, edge : \"orange\" if edge[\"properties\"][\"label\"] == \"CONNECTED_TO\" else \"black\")\n",
    "w.set_node_label_mapping(lambda index, node: node[\"properties\"][\"NAME\"])\n",
    "\n",
    "w.show()    "
   ]
  },
  {
   "cell_type": "code",
   "execution_count": null,
   "id": "4a36bf27",
   "metadata": {},
   "outputs": [],
   "source": []
  },
  {
   "cell_type": "code",
   "execution_count": null,
   "id": "98b45f72",
   "metadata": {},
   "outputs": [],
   "source": []
  },
  {
   "cell_type": "code",
   "execution_count": null,
   "id": "d31a6e31",
   "metadata": {},
   "outputs": [],
   "source": []
  },
  {
   "cell_type": "code",
   "execution_count": null,
   "id": "f02b8404",
   "metadata": {},
   "outputs": [],
   "source": []
  },
  {
   "cell_type": "code",
   "execution_count": null,
   "id": "eefb6388",
   "metadata": {},
   "outputs": [],
   "source": []
  },
  {
   "cell_type": "code",
   "execution_count": null,
   "id": "2037e56c",
   "metadata": {},
   "outputs": [],
   "source": []
  },
  {
   "cell_type": "code",
   "execution_count": null,
   "id": "02cdcdfd",
   "metadata": {},
   "outputs": [],
   "source": []
  }
 ],
 "metadata": {
  "kernelspec": {
   "display_name": "Python 3 (ipykernel)",
   "language": "python",
   "name": "python3"
  },
  "language_info": {
   "codemirror_mode": {
    "name": "ipython",
    "version": 3
   },
   "file_extension": ".py",
   "mimetype": "text/x-python",
   "name": "python",
   "nbconvert_exporter": "python",
   "pygments_lexer": "ipython3",
   "version": "3.9.12"
  }
 },
 "nbformat": 4,
 "nbformat_minor": 5
}
