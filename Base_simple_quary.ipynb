{
 "cells": [
  {
   "cell_type": "code",
   "execution_count": 1,
   "id": "f99bb09a",
   "metadata": {},
   "outputs": [],
   "source": [
    "from neo4j import GraphDatabase"
   ]
  },
  {
   "cell_type": "code",
   "execution_count": 2,
   "id": "4b6131bc",
   "metadata": {},
   "outputs": [],
   "source": [
    "from py2neo import Graph,Node,Relationship, NodeMatcher\n",
    "from py2neo import cypher"
   ]
  },
  {
   "cell_type": "code",
   "execution_count": 3,
   "id": "483bcf73",
   "metadata": {},
   "outputs": [],
   "source": [
    "import pandas as pd\n",
    "import numpy as np"
   ]
  },
  {
   "cell_type": "code",
   "execution_count": 4,
   "id": "35ba29d0",
   "metadata": {},
   "outputs": [],
   "source": [
    "URI = \"neo4j+s://insert personal url generated in neo4j\"\n",
    "AUTH = (\"neo4j\", \"*********\")\n",
    "\n",
    "\n",
    "with GraphDatabase.driver(URI, auth=AUTH) as driver:\n",
    "    driver.verify_connectivity()"
   ]
  },
  {
   "cell_type": "code",
   "execution_count": 5,
   "id": "27aa8feb",
   "metadata": {},
   "outputs": [],
   "source": [
    "graph = Graph(URI, auth=('neo4j', '************'))"
   ]
  },
  {
   "cell_type": "code",
   "execution_count": 10,
   "id": "df0e174c",
   "metadata": {},
   "outputs": [
    {
     "data": {
      "text/plain": [
       "Graph('neo4j+s://67ec8314.databases.neo4j.io:7687')"
      ]
     },
     "execution_count": 10,
     "metadata": {},
     "output_type": "execute_result"
    }
   ],
   "source": [
    "graph"
   ]
  },
  {
   "cell_type": "code",
   "execution_count": 11,
   "id": "0853e758",
   "metadata": {},
   "outputs": [
    {
     "name": "stdout",
     "output_type": "stream",
     "text": [
      "(_15:ID {NAME: '595'}) (_8:NAME2 {NAME: '\\u0427\\u0435\\u043c\\u043e\\u0434\\u0443\\u0440\\u043e\\u0432 \\u0414\\u0430\\u043c\\u0438\\u0440 \\u0420\\u0443\\u0441\\u043b\\u0430\\u043d\\u043e\\u0432\\u0438\\u0447'})\n"
     ]
    }
   ],
   "source": [
    "id_1 = graph.evaluate('MATCH (n) where n.NAME = \"595\" RETURN n')\n",
    "id_2 = graph.evaluate('MATCH (n) where n.NAME = \"Чемодуров Дамир Русланович\" RETURN n')\n",
    "print(id_1, id_2)"
   ]
  },
  {
   "cell_type": "code",
   "execution_count": 40,
   "id": "097ed547",
   "metadata": {},
   "outputs": [
    {
     "data": {
      "text/plain": [
       "{'t_first': 1,\n",
       " 'fields': ['NAME'],\n",
       " 'bookmark': 'FB:kcwQ+4Dy7WlvQdqQFf1iLVgs/8kTmpA=',\n",
       " 'type': 'r',\n",
       " 't_last': 31,\n",
       " 'db': 'neo4j'}"
      ]
     },
     "execution_count": 40,
     "metadata": {},
     "output_type": "execute_result"
    }
   ],
   "source": [
    "results = graph.query(\"match (NAME:NAME1) return NAME\")\n",
    "results.summary()\n"
   ]
  },
  {
   "cell_type": "code",
   "execution_count": 54,
   "id": "01e45fa3",
   "metadata": {},
   "outputs": [
    {
     "data": {
      "text/html": [
       "<table><tr><th>properties(NAME)</th><th>ID(NAME)</th></tr><tr><td style=\"text-align:left\">{NAME: &#039;189&#039;}</td><td style=\"text-align:right\">0</td></tr><tr><td style=\"text-align:left\">{NAME: &#039;206&#039;}</td><td style=\"text-align:right\">3</td></tr><tr><td style=\"text-align:left\">{NAME: &#039;445&#039;}</td><td style=\"text-align:right\">6</td></tr></table>"
      ],
      "text/plain": [
       " properties(NAME) | ID(NAME) \n",
       "------------------|----------\n",
       " {NAME: '189'}    |        0 \n",
       " {NAME: '206'}    |        3 \n",
       " {NAME: '445'}    |        6 "
      ]
     },
     "execution_count": 54,
     "metadata": {},
     "output_type": "execute_result"
    }
   ],
   "source": [
    "res = graph.query(\"MATCH (NAME:ID) return properties(NAME), ID(NAME)\")\n",
    "res"
   ]
  },
  {
   "cell_type": "code",
   "execution_count": 57,
   "id": "05f63b23",
   "metadata": {},
   "outputs": [
    {
     "data": {
      "text/plain": [
       "<neo4j.graph.Graph at 0x2792995b820>"
      ]
     },
     "execution_count": 57,
     "metadata": {},
     "output_type": "execute_result"
    }
   ],
   "source": [
    "with driver.session(database='neo4j') as session:\n",
    "    grap = session.run('MATCH triples = (NAME:NAME1) -[r]-> () WHERE type(r) <> \"CONNECTED_TO\" RETURN triples LIMIT 25').graph()\n",
    "    \n",
    "grap    "
   ]
  },
  {
   "cell_type": "code",
   "execution_count": 58,
   "id": "72311de7",
   "metadata": {},
   "outputs": [
    {
     "data": {
      "application/vnd.jupyter.widget-view+json": {
       "model_id": "33e10e22910a4e2d951454c903434621",
       "version_major": 2,
       "version_minor": 0
      },
      "text/plain": [
       "GraphWidget(layout=Layout(height='500px', width='100%'))"
      ]
     },
     "metadata": {},
     "output_type": "display_data"
    }
   ],
   "source": [
    "from yfiles_jupyter_graphs import GraphWidget\n",
    "GraphWidget(graph = grap)"
   ]
  },
  {
   "cell_type": "code",
   "execution_count": null,
   "id": "c76deaa2",
   "metadata": {},
   "outputs": [],
   "source": []
  },
  {
   "cell_type": "code",
   "execution_count": null,
   "id": "a883961d",
   "metadata": {},
   "outputs": [],
   "source": []
  },
  {
   "cell_type": "code",
   "execution_count": null,
   "id": "0c5175b5",
   "metadata": {},
   "outputs": [],
   "source": []
  },
  {
   "cell_type": "code",
   "execution_count": null,
   "id": "dc774862",
   "metadata": {},
   "outputs": [],
   "source": []
  },
  {
   "cell_type": "code",
   "execution_count": null,
   "id": "1ee27071",
   "metadata": {},
   "outputs": [],
   "source": []
  }
 ],
 "metadata": {
  "kernelspec": {
   "display_name": "Python 3 (ipykernel)",
   "language": "python",
   "name": "python3"
  },
  "language_info": {
   "codemirror_mode": {
    "name": "ipython",
    "version": 3
   },
   "file_extension": ".py",
   "mimetype": "text/x-python",
   "name": "python",
   "nbconvert_exporter": "python",
   "pygments_lexer": "ipython3",
   "version": "3.9.12"
  }
 },
 "nbformat": 4,
 "nbformat_minor": 5
}
